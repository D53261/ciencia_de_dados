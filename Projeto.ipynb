{
  "nbformat": 4,
  "nbformat_minor": 0,
  "metadata": {
    "colab": {
      "provenance": []
    },
    "kernelspec": {
      "name": "python3",
      "display_name": "Python 3"
    },
    "language_info": {
      "name": "python"
    }
  },
  "cells": [
    {
      "cell_type": "markdown",
      "source": [
        "Codigo para importar as bibliotecas usadas no codigo"
      ],
      "metadata": {
        "id": "dCSEg-QVjONG"
      }
    },
    {
      "cell_type": "code",
      "execution_count": 50,
      "metadata": {
        "id": "W1azNtzGFTd9"
      },
      "outputs": [],
      "source": [
        "import numpy as np\n",
        "import matplotlib.pyplot as plt"
      ]
    },
    {
      "cell_type": "markdown",
      "source": [
        "Um codigo que cria uma array a partir dos dados em dados.csv, sendo os dados"
      ],
      "metadata": {
        "id": "3VO4yoC6lT9p"
      }
    },
    {
      "cell_type": "markdown",
      "source": [
        "![Opera Instantâneo_2024-04-10_213552_colab.research.google.com.png](data:image/png;base64,iVBORw0KGgoAAAANSUhEUgAAAVMAAADuCAYAAACEaORrAAAgAElEQVR4nO29b0xb2ZnH/5394Zm1h2VMPC7GIRPtUojBSEm30LAU5IU6gdkl9WRBliJFRStbDG/cWpEVZaSN+yt5kShiKSu/WCaCF1mNOhVK2riJFGiYZplMo3TCSlBhcGDTLYEYU4+xw3h91THa3+9Fuaf3Yps/yQWb6+fzCt9zOfec59zznOd5zrnnvFZbW/v/gSAIgngl/iLTBchVKioqMl0EYpehNhYjd3mQMiUIgpAAUqYEQRASQMqUIAhCAvJ2I9Oqqiq8//77UKlUouvxeBwffvghpqamJHuWw+HAsWPHMDIygqGhIcnylQsHDx7ED37wA2g0GnZtYmICHo8nY2U6ceIE2tvbEQgE8KMf/Sgp3Wq1orm5+aXKyddXqVRK/q7tNXvZj7Id/p3JyxOrrGfPnqV8hzLBrlqm4XAYbrcbNpsNP/3pT/H666/je9/7Hg4ePLibj90Sh8MBq9Wa0TLsBVVVVbhw4QIAiNqhqqoKV69e3dN2yBWZ7wbZ2o8ywbNnz2Cz2Zgs9Hr9jt7lEydO4IMPPtiVsu2Zm3/v3j0EAgG89dZbqKys3KvHJsFbsrlAW1sbXn/9ddy7dw/Pnz8H1tvhk08+gUajwbe//e09KcdGmd+7dw/vv/9+1lgU+4ls6UfZwL179zA1NbXtd5m3bl9//fVdKc+uuPnbgXdhEokEAODNN9/EjRs3sLS0JHJtwuEw/u3f/o0pA6HrE4/HEQgERPn+8Ic/hF6vx40bN3Dv3j1RGAAA69TNzc2oqKjAj370oyR3auMz9yNVVVV4++238eLFC0xPT4vSpqen0dDQwJaqbHS7eXlwHMfksFEhCl1wXuazs7Osg/Pul9VqTZL5w4cPRc8ThiLW1tYwOzubVJ/Nns+HBQBgaWkp6X83hjqyyTV8VdL1o+np6U3rvFGewjDZfuoPfr8fVVVVKCoqAlKUnQ+JAMB3v/td5OXl4Z133oHH42HXU93/MiGUPbNMT5w4Ab1en9S533zzTdy9exfvv/8+U6Qcx8HtdsPtdgMALly4gKqqKkBgbf30pz/Fhx9+CL1ev+0yDA0NYWJiAlh/eTYqjnTP3I8UFxfj9ddfx//+7/+m7QRvvvnmttwjXiGOjIzAZrPh2bNnqKqqwokTJ9g9eXl5+Oqrr1i6Xq/HiRMnUsp8I//0T/8EjUaDkZERdHd3s46xnedXVVWhoaGBucK//e1vRfFhYQz1xz/+MXMNHQ7HjuSZLWynH/GKNF2dhQYGL8/vfOc7TJ77sT8cOHAABw8exPe+9z1Wdj4k0tbWhqmpKfziF7/A2toanj17BofDgUgkkvb+l2FXLVONRoPu7m72WzjCFRYWAoDopaisrIRKpcKDBw+YAhgfH0dzczOzeITW1vPnzzE7O/tKbvtWz8ylIH86hoaGMDQ0BIfDgcHBQQDA2tqa6J61tTX4/X4AwMrKCt555x3Wxptx8OBBHDp0CPF4nLUpL//tPJ9vv9nZWTx//hy//vWvUV1dDaVSydLfeustBAIBTE1NIRKJ4MWLFzh06BAOHjyYldbWRl6mH6Wr87Fjx0TyBiAa4KxW677tD8+fP8f58+fZXMHGibtXvX8rdlWZ7tQ92GiRbEyLRCJ4/fXX8cUXX0jWCbZ65n5laWkJX331FbM+X0VevBsdj8fx4x//GG1tbTvyCDajsLAQSqUSHMchEons+Pl8Gy0vL2/6nHfeeYcpYqy7c4WFhftCmb6sm52qzgcPHtxU3vu1P6ysrIjCORMTE/D7/Whvb0/7Pzu9fysyFjNNxWYdYnl5WVIFsd1n7lempqbwxRdfQK/XM6v+Bz/4ARYWFrC8vAyVSsUGpa0mMioqKrC2toZf/OIXmJqaemk3KBWRSAQcx0GpVKZVbps9n2+jrTq6nOKk2yVVnQ8ePAiTyZRW3vutPxgMBuTl5WF5eZlZ5M+ePYPH4xGFoVKx0/u3IqsW7U9PTyMej6O6uhoHDx7EwYMHUV1dzVwSXkHwM5lVVVUoLy8X5bGysoK8vDwUFhYyF1LIxhdiq2fuZ27evImvvvoK3/3ud1FYWIjx8XEcO3YMzc3NWFtbw8OHD4EUVizvOgvhZcrH7HbCZp3w+fPnWFhYgEqlQmVlJZP/RtI9n28/3m3/9re/LYqZTk9P48WLF3j77bdZnPXDDz/ED3/4wx3VYT+xWZ03yhvrMdQPP/wQJ06c2Ff9ge//4XAYv/71r9l1/j2uq6sTrUvl3/ONpLt/p/w/JSUl/+9L/3cavva1r6G6uhpra2v4zW9+gy+//HJb9/zhD3/AwsICamtrcfLkSTQ2NoLjOPzrv/4rnj59CgD47//+bxw7dgzf+ta3cPToUQQCARw4cABPnz6Fz+dDPB7H0aNHUVFRgePHjyMUConSX3vtNZZeX1+P//zP/4TP59v0mbuBVqvFF198sWv5A8Af/vAH/Pa3v8U3v/lNNDU14etf/zpL+4u/+As8f/4cPp8Pf/jDH/D1r38df/M3f4PGxkYAwF/+5V+ytvmf//kfJrOqqiosLi4yq8bn8+Hv//7v8Vd/9VeYnp7G7373Oxw/fhw6nS6tzL/44guUlpbiyy+/xNjYGD7//HN84xvfwDe/+U00NDTg2bNn0Gq1CAaD+PzzzxEOh9M+//79+1hbW8Pf/u3f4jvf+Q7efPNNfPXVV1AoFPiv//ovPH36FNPT00wGVVVViEQi+Pd///eU76WUvGobv2w/+vLLLzet8+eff47Dhw+jvr4eFosFOp0O9+7dw+3bt7fVBzMhj9LSUlRWVqKwsBAWiwUWiwV/93d/h6WlJfzLv/wLvvzyS/zud7/DX//1X4ve4z/+8Y/Iy8vD9PQ0nj59im9961t455138I//+I+Ynp7G//3f/6W9f6fvx2u0BV9mqKiowMzMTMaeb7Va0dDQkHNf0uwlmW7jzdgYL9yLL+KyWR5SkFVuPrF38LPjpEhzE34me2JigoVIiFcjqyagCILYG4SL9kdGRvbFqoZsh5QpQeQgmdzoRq6Qm08QBCEBpEwJgiAkgJQpQRCEBLy2srJCS6MywMjIiOj7c0J+UBuLkbs8aJ1phpD7mjuC2ngjcpcHufkEQRASQMqUIAhCAkiZEgRBSEDaRfubHRMhJfw34v39/fD5fJLnv5+xWq2orq5GX1+f6HgWt9uNw4cPAxuOmyD2H263G5FIRNS3jEYjurq62NE8udA3tlvnVPLKFlJapm63G+Xl5ejt7YXNZkNvby/Ky8uz9qgHs9kMj8cDs9mc6aJIhvBco43XtVotent7MTIygoaGBhiNxoyUkXg1hIOikLa2NoRCIdhsNoRCIUn3j81WtlPndPLKFpKUqdlshlarhdfrZSODz+fDgwcPUF5eLnnH5TfckPvIuxPcbjeampqSDgvE+ma4oVAIPp8Pn332GTiOI2W6zzAajfB4PFCr1Xjx4kVSmlarZUfAPHz4EGq1WtZtvFWdN5NXNpHk5ldUVIDjuKSNYPlzeHj0ej2cTifbiFdomrvdbigUCrzxxhvQaDSIx+O4desW3nvvvSQzXujmRyIRUZ7z8/Ois2+EIxOfZjQaYbFYoFKp2JEDo6OjonsTiQRu3LiB0dHR3ZGixPj9fnR3d8PhcIg2t9br9cjPz8fCwoLo/mw+ToJIza1btzAzMwOn0ym6XlxcDKxvcs6jUChQXFwsW4NjO3VOJ69sIskyLSwsRCwWS2kVCWlra0MsFoPNZsPFixfBcRyamppYularxS9/+UuW9t5776G/vx+9vb0AILo3XZ75+fmwWq3Aegw3Pz8fFy9eZGm8Rev1ehGPx5nCtFqt7F6bzYZAIIC6ujop5LUnbBUD5XeuDwQCiMVie1QqQip8Ph8++eSTtOmJRIIdWb20tMSOcZYzm9V5K3llCy+9a5QwAMwfiiYkEAgwSzAWiyEWi8Hn80Gv14PjuLT56vV6mM1mjI6O4vz58+zaoUOHMD4+zpT8+Pg4qqurUx6hIbSieWuOlA5BELtJkjKNRCI4dOgQ9Hr9ptapcIIkkUhIMnp6PB44HA6cOXMGZ86cYe750tISlEolmpubRZMy/AmTGzGbzWhvb4dCoWBlk5My5d16fqBId6onsT8RurjFxcVQKBSZLtKuI4c6JynTmZkZlJeXo7KyUqRMzWYzLBYLvF4vpqenUV1dzZZL8fFTKRBavG63GydPnsRPfvITcByHBw8epHSB+ZgLT11dHQKBAIu3ut1uScqWadK59dl4aiTxcqRy64UusByRS52TYqajo6MIhUKwWCxsNk2v1+PkyZMIhUKiSRzeKqyvrxedCPmyuN1ukeKLRCKIxWKYmJjAwsKCyK13u924evVq2pMy8/PzWchAqjPeswG/389WVdTX10OpVMp2YiIX8fl8iEajLMZfV1eHaDQq6zaWS51TrjPt7u7G7Owszp07h8HBQVy6dAkLCwvM0gsEAhgfH8fhw4cxODgIg8GA+fn5lC73ThgYGEB+fj4GBwcxODiI8vJy3Lx5E1i3WGOxGC5duoTBwUFotVpcv34dgUAA09PT4DgOZ86cgdVqxcOHD1FQUIBLly7h5MmTmJubY8p1vzM0NIRQKIRz586hubkZDx482HcvHbE5N2/ehFarZe853wfkjBzqTLtGZQi576BDUBtvRO7yoG/zCYIgJICUKUEQhASQMiUIgpAAUqYEQRASQMqUIAhCAl7753/+Z5rNJwiCeEXyFhcXM12GnKSkpAQke3lDbSxG7vIgN58gCEICSJkSBEFIAClTgiAICUi7n6ndbkdVVRX7PTU1hYGBgW1l6nK5AAA9PT1SlDFnsVgsOHr0KK5du4ZgMAisH1vS0dEh2j92J21DZBculwvRaFTUfhaLBY2Njez32toabt++jbGxsQyVcvcRvtccx+H69evsGBMhqeSVLaRUpi6XCxqNBv39/fD7/ayidrs9KyshR/gOJTzKAet7mSYSibQvG7F/cLlcKCkpQTQaFV3XarVYXFzMKWOktbUV4XAYPT09cLlcaG1tTXq/08krW0hy800mEzQaDYaHh1ll/H4/Hj16hNLSUhgMhkyUM6dwuVxoaGhIuU+pWq3G2tpa1r5QxNYYDAZcvnwZBQUFWF1dTUpXq9U51b4GgwEajQZzc3MAgMePH6OgoIDpmq3klS0kWaZlZWXgOA5PnjwRXfd6vfB6vey3TqdDZ2cnDhw4AACbmubCkMHKygpzW3eSRy4xNzeHnp4e2O32pG0DtVot4vE4c/uJ/cndu3cxOzuLzs5O0XWdTgeVSsUUSy7AnxwhHEAUCgWKioqYLkgnr2wiyTJVq9Xb6qytra2Ix+NwOp24cuUKOI5DfX190n0WiwWlpaXo7++H0+lEPB7H2bNnd5RHriEctDaiVqtRUlKCvr4+9PX1we12Q6fT7Wn5iFfD7/fj008/TZmmVquhVCrR2NjI2thut+95GfeaRCLBPLHl5WXRzvubySubeOkD9YSxU/4FSEVZWRnC4TAbYYRxoO3mQfwJ3mrh42m8ZX/27Nmciq/JmaKiIigUCty/fx9erxcmkwmnTp1iRwYR2UuSMo1Go9Dr9dDpdJtap8IZx7W1tZQH6vGdP93BfNvJg/gzwWCQnXbA/56cnERtbS0MBkPOh0fkwNjYmGjWfmxsDDU1NSgrK8touXYboVvPDyj7jSQ3f25uDkqlEkeOHBFdN5lMuHz5MkwmE3Q6HY4ePYqpqSk4nU709PSkPL45GAwiHo9DrVYnpW03D2JrOI7LqQmLXETO7bvRrccGt3+/kKRMx8bGEA6H0dLSwmbTdDodTCYTwuGwaNTkleTx48fZJNJG5ubmoNFoWF52ux1utxtvv/32tvMg/gQ/q2mxWNjv2tpaBAIBmpCSCRaLBZcvX2b9xWKxQKfTyXpCyu/3Y3V1FTU1NQCAmpoarK6u7jtPK2XMlJ9J7urqYteEC8N595IPki8uLmJxcTGlBer1eqHVallewhn70tLSbeVB/Am/34/r16+jo6ODhUcWFxdp7a+M4OOiwr53//59WS/YB4A7d+6go6MDfX19TEfsN147ceLEnmzB9/3vfx+Tk5Oyfym2i9x30CGojTcid3ns2bf5Q0NDqKurg8lk2qtHEgRB7BkvvTRqJ/CL9ldWVpI+BiAIgpADe6JMKaZHEITcoS34CIIgJICUKUEQhASQMiUIgpAAOp2UIAhCAvJmZmYyXYacpKKiAiR7eUNtLEbu8iA3nyAIQgJImRIEQUgAKVOCIAgJSLlo32q1orm5mf0Oh8Po6+tLuy8pIS1utxuHDx8G1rciu3HjBkZHR1Omj4yMYGhoKGNlJXaO0WhEV1cXVCoVkKJ/CdPj8Tj6+/vh8/kyXOrdZbt1drvdiEQi8Hg8GSnnZiRZplarFU1NTfj4449hs9lgs9mwsLAAp9OZdB6R1JjNZng8HpjN5l19TjbjcDiQn5+PixcvwmazwefzwWKxwGg0Auvto9Vq0dvbi5GRETQ0NLA0IvvR6/Xo6OjA7OwsbDYbLl68CKx/cs3T1taGUCgEm82GUCiEtra2DJZ4b9hOnYVGRDaSpEyLioqwurqK6elpdu1Xv/oV8vLyUFlZudflyzk8Hg/Onz/PrBR+9rO4uBhY38M0FArB5/Phs88+A8dxpEz3EYFAAOfPn2eWVSAQwMLCAvLz86HX62E0GqHVatleng8fPoRarZZ1G29VZ6PRCI/HA7VajRcvXmS4tOlJcvOXl5dhNBpRWVnJOrTP58O5c+dE96VzRc1mMywWC37/+98z5TsxMcFeHr1eD6fTCY1GAwDMpMf6RrgqlQrt7e0AgNHRUTgcDhw7dgygcAP0ej3y8/OxsLAgus6f7kjsf/hBc2VlhV1TKBQoLi6Wrau/nTrfunULMzMzcDqdGSvnViRZpkNDQwgEAjhz5gwGBwfh8XiSRkWr1SpyRQOBAOrq6lg6f57LxYsX8fHHH8NoNMJqtQLr5nwsFmMuDsdxaGpqgs/ng9frRTweZ4rZarWivLwcvb29Kd2hXKCurg4cx4k8Bf44h0AggFgslsHSEa+K0WhEeXk5FhYWmJGQSCSwtLQEAFhaWsqJs9E2q7PP58Mnn3ySwdJtj5QTUPyhbXxQ+Ny5cyKrcGhoiE168NbSxk49Pj6OQCDAFC1/DIMwcFxYWLjpiaRCl5bPk48RynWUFuJwOKDX63Hjxg0EAoFdj1kTewsfP+U4Djdv3sx0cYhXZNMt+Hw+HxwOB1OqbW1tbIKovb0dCoUCiUQCiURCpEwTiYTIZI9EIigsLAQ2rBTg/zcV6VzaXIGX+8aZfAjcel5GkUgkQ6UkXhY+3AUgKXQldHGLi4v35UmdO0UOdRa5+Xq9HlevXmUuOU8kEhGdHFpXV4dAIACbzYauri6EQiHR/QqFQnQ4Hq9I9Xo9qqurMTExAZvNhu7u7rQnkvIuLP+/uYTD4UB5eTk8Ho9IkaZz6/fbKY65Dq9IY7GYaLIRadx6oQssR+RSZ5Ey5WcWm5qaRMuT6uvrUVBQIPqulp99NJvNKd1P3q3n04UnDfIKsr6+nk1EpcLv90Or1cJoNDJFLHT75YjVaoXRaITX601ZT7/fj/LychiNRtTX10OpVMpaHnKEj/un2jTd5/MhGo2yOYi6ujpEo1FZt7Fc6pzk5ns8HlitVpw5cwZnzpwB1mfcPR4Pq9zDhw/R3t6OS5cuIRwOY25uDkVFRUypJhIJKBQKDA4OAuuz+XyMdXx8HM3NzRgcHMT8/Dzm5+eZcp2ensbJkydx5swZHDhwAENDQygqKmIrCcLhsOx37TcYDFAoFCL5Q7A4f2hoCAaDgclkZGRk3710uQy/DEilUuHSpUvsunCh+s2bN9HV1YXBwUHRahc5I4c6v1ZbWyvpFnz80iiv15sU6yP+jNx30CGojTcid3nQt/kEQRASQMqUIAhCAiQ/nXR0dJTce4Igcg6yTAmCICSAlClBEIQE0IF6BEEQEpC3uLiY6TLkJCUlJSDZyxtqYzFylwe5+QRBEBJAypQgCEICSJkSBEFIQNp1pna7HVVVVez31NTUrnwXb7FYUFtbi+vXr4s2QyH+JJujR4/i2rVrCAaDAACTyYRTp04hL+9PTbe4uIienp4Ml5R4WVwuF6LRqKhvGQwGdHR0QKlUguO4nOgb261zKnllCyktU5fLhdLSUvT398PpdKK/vx+lpaVZu8u9yWTC5cuXYTKZMl0UybBYLGhsbBRdMxgMaGlpwYMHD1i7aDSarG0XYnNcLhdKSkqSrre2tiIcDsPpdCIcDqO1tTUj5dtLtlPndPLKFpKUqclkgkajwfDwMBsZ/H4/Hj16hNLSUra1nlR4vV588MEHsh95d4LL5UJDQ0PSPqV+vx8ffPABvF4v+x0Oh6FWqzNUUuJlMBgMuHz5MgoKCrC6upqUptFoMDc3BwB4/PgxCgoKJO932cRWdd5MXtlEkptfVlYGjuPw5MkT0XWv18s6MQDodDp0dnayTaCFprnL5YJCoWCbRHMch7t37+Ldd99NMuOFbn40GhXludGFFY5MfBpvrSmVSpw6dQoAMDY2Jrp3bW0Nt2/fxtjY2O5IUWLm5ubQ09MDu91OR5XIlLt372J2dhadnZ2i6/wpCtFolF3jz1STq8GxnTqnk1c2kWSZqtVqxONxFqNLR2trK+LxOJxOJ65cuQKO41BfX8/SNRoNxsbGWNq7776L69evs30Khfemy1OlUsFisQDrMVyVSoUrV66wNLvdDr/fj+HhYXAcxxQmf8rplStX4HQ6EQwGUVNTI4W89gThoLUZJpMJOp2OjejE/sDv9+PTTz9Nm55IJJhXsry8nDMH6qWr81byyhZeeqMTYQBYrVYnHYwXDAaZJRiPxxGPx+H3+6HT6dIeVYJ1i9dkMmFsbIwd7KfT6aDX6zE5OcmU/OTkJI4ePQqdTpeUh9CK1ul0UKlUiMfjL1vVrIS3yIPB4LaVL0EQu0eSMo1Go9Dr9dDpdJtap8IJkrW1NUlGz4GBAdjtdpw+fRqnT59m7vny8jKUSiUaGxtFkzIcx6WMFwpnvPmyyUmZ8jOf4XCYZvJliNDFLSoq2peHy+0UOdQ5SZnOzc2htLQUR44cESlTk8mElpYWDA8P48mTJzh69ChbLsXHT6VAaPG6XC6YTCb87Gc/A8dxePToUUorjI+58NTU1CAYDDJF43K5JClbNsAr0qdPn2bl8hDi1Ujl1gtdYDkilzonxUzHxsYQDofR0tLCZtN41zscDosmcXir8Pjx46LTSF8Wl8slUnzRaBTxeBxTU1MIBAIit97lcsHtdqd08wFApVKxcqe7Z7+h0+lgtVpz4iysXMXv92N1dZXF+GtqarC6uirbySfIqM4pY6b8THJXVxe7Jly0HwwGMTk5icbGRvT19WFxcRGLi4uvvETno48+QmdnJ/r6+gDBCgGsW6wulwsXLlwQpQkXs58+fRpqtRqPHz/GqVOncOHCBaysrODp06fQarVbhi6ynSNHjqCgoAAHDhxgMgKAlZUV0cJ+Yn9z584ddHR0oK+vT9QH5Iwc6vzaiRMnaAu+DCD3HXQIauONyF0e9G0+QRCEBJAyJQiCkABSpgRBEBJAypQgCEICSJkSBEFIAClTgiAICaDTSQmCICQgb2ZmJtNlyEkqKipAspc31MZi5C4PcvMJgiAkgJQpQRCEBJAyJQiCkIC0m0M7HA4cO3aM/Z6YmIDH49lWpm63GwDY5s7Ey2G1WlFdXY2+vj4EAgF23e124/DhwwCA+fl5kvM+xu12IxKJiPqW1WpFc3Mz+51IJHDjxg2Mjo5mqJS7j9FoRFdXF9vIvb+/Hz6fL+m+VPLKFlJapm63G+Xl5ejt7YXNZkNvby/Ky8vhcDj2voQ5ysYOxeNwOJCfn4+LFy+it7cXWq2W2mWfIhwUhRQVFWF+fh42mw02mw1dXV2yVqQA0NbWhlAoBJvNhlAohLa2tqR70skrW0hSpmazGVqtFl6vl40MPp8PDx48QHl5OYxGYybKmVO43W40NTWJrFGewsJCxGIxBAIB+Hw+hEIhFBYWZqScxMthNBrh8XigVqvx4sWLpPTCwkJEIpGMlC0TGI1GaLVatn/pw4cPoVarma7ZSl7ZQpKbX1FRAY7jMD09Lbo+NDSEoaEh9luv18PpdEKj0QDr5zylM82FIYNwOMzc1p3kkUv4/X50d3fD4XDg0KFDorRIJIJDhw5Br9ejsLAQWq0WDx48yFhZiZfj1q1bmJmZgdPpFF3X6/XIz8/fdxsjvwrFxcXA+r68PAqFAsXFxUwXpJNXNpFkmQotn81oa2tDLBaDzWbDxYsXwXEcmpqaku6zWq2ikEEsFoPdbt9RHrmGcNDaiMfjwfj4OC5dugSHwwGv17vp/UT24fP58Mknn6RMKywshFKpRHNzMwYHBzE4OJgTYZxEIoGlpSUAwNLSkugYk83klU289OmkwgAw/wKkwmAwIBQKsRFGOFmy3TyIP+N2u1nMFACcTicqKiqyMiBP7Jzi4mIoFAqMjIxgaGgIZrMZ7e3tsFqtNGhmOUnKVOhGbmadCidIEolEytNJeZdlYWHhpfMg/gwfW3rw4AFrm/HxcTQ0NMBoNOZ8eEQOjI6OiiabRkdHUVdXx85jkytCt54fUPYbSW7+zMwMlEolKisrRdfNZjM8Hg/MZjP0ej2qq6sxMTEBm82G7u5ucByXlHkgEEAsFks5QbLdPAiCgKwnpDa69djg9u8XkpTp6OgoQqEQLBYLm03T6/U4efIkQqGQaNTklWR9fT2bRNqI3++HVqtleTkcDly9ehVf+9rXtp0H8Sf42fvq6mro9Xo2IAnDKMT+xmq1wuPxsP5itVqh1+tl/U27z+dDNBpFXV0dAKCurg7RaHTfvdMpY6b8TPK5c+fYNeGi/UAggPHxcRYkn5+fx/z8fEoLdGhoCEVFRSMkPKwAABn0SURBVCwv4Yx9eXn5tvIg/szAwACcTicuXboE0KJ92cHHRYV9b2RkRPbrTG/evImuri4MDg4yHbHfeK22tnZPtuC7cOECxsfHZf9SbBe576BDUBtvRO7y2LNv8//jP/4DJpMJZrN5rx5JEASxZ7z00qidwC/aD4fDSR8DEARByIE9Uaa0BpIgCLlDW/ARBEFIAClTgiAICaAD9QiCICQgb3FxMdNlyElKSkpAspc31MZi5C4PcvMJgiAkgJQpQRCEBJAyJQiCkICU60wtFgsaGxvZ75WVFVy7dg3BYHAvy5azuFwulJSUAADW1tZw+/ZtjI2NAev7w3Z0dIj2fp2amsLAwEDGykvsjI1tuLF/CdM5jsP169dlv/P+duvscrkQjUaz8n1PskwtFgsaGhrw85//HE6nE06nE4FAAJ2dndDpdLtaGJPJhMuXL8NkMu3qc7IZu90OlUqFK1euwOl0wu/3o6Wlhe1nWVRUhEQigf7+ftY+2fhiEanR6XSwWq14+vQpnE4nrly5AgA4e/Ysu6e1tRXhcBhOpxPhcBitra0ZLPHesJ06C42MbCRJmWq1WqyuruLJkyfs2meffYa8vDwcOXJkr8uXcwwMDKC7u5tZKXNzc8C6EgUAtVqNtbU1RKPRjJaTeDmCwSC6u7vZABgMBhEIBKBSqaDT6WAwGKDRaFi7P378GAUFBbLeHHqrOhsMBly+fBkFBQVYXV3NcGnTk+Tmh0IhGAwGHDlyhHVov98Pt9stui+dK2oymdDS0oJnz54x5St0Q3U6HTo7O3HgwAEAYCY9ALS0tECpVOLUqVMAgLGxMdjtdlRVVQEUbgDWB7t4PJ7TMpAz/KApHCwVCgWKiopk6+pvp853797F7OwsOjs7M1bOrUiyTL1eL4LBIE6fPo2+vj5cvnw5aVS0WCwiVzQYDKKmpoalKxQKaLVaXLlyBT//+c9hMBhgsViAdXM+Ho8zF4fjONTX18Pv92N4eBgcxzHFbLFYUFpaiv7+/pTuUC5QU1MDjuOYp6BWq1FSUoK+vj709fXB7XbveviF2D0MBgNKS0sRCATYAJlIJLC8vAwAWF5ezonjfDars9/vx6effprB0m2PlBNQPT09gCAo3NXVJbIKvV4vvF4vsG5pqlQqxONxUR6Tk5MIBoNM0ZaVlQHrbiyPWq3e9BC9srIyhMNhNjpNTk6itrYWBoNBtqO0ELvdDp1Oh9u3byMYDDJZLy4uoqenh1n5Z8+eZW1G7B/4+CnHcbhz506mi0O8IpvuGuX3+/HBBx8wpdra2oqBgQGYTCacOnUKeXl5WFtbQyKRECnTRCIhMtmj0SjUajWwYaUA/7+p4BXHVkdOyxW73Q6DwSCayefjbTzBYDDnBhi5wA+EAJJCV0IXt6ioaF8eLrdT5FBnkTLlG3hycpJZnlhXhsLD7mpqahAMBpk15HK5RJkqFAqmPLFugfL5Hz16lMVQhS/URoLBIOLxuCifXMFut6O0tBQDAwPbUpAcx9GE1D6Cf+/j8XiSR5HKrRe6wHJELnUWxUz5mcWGhgbR8qTjx4+joKCAzbYBYLOPJpMpZcyOd+v5dOH/8gry+PHjbCIqFXNzc9BoNDAYDEwRC91+OWKxWGAwGDA8PJxUT35Wk48/GwwG1NbWiuJtRPbDx/0/+uijpDS/34/V1VU2B1FTU4PV1VVZv/NyqfNrJ06cSNo1auOi/Y2LaIVu/srKCkKhELRaLa5du4YjR46gpaUFq6urbJZOOJsvzFu46YEwBnjgwAHcv38fXq9XtrP56TZ9SLeWjpfHxgXffPyUyD5StXGqjy6woY/JddH+ZhudbKfOvH4IBAJZubY6pTJ9FfilUcPDwyzWRyQj9x10CGrjjchdHvRtPkEQhASQMiUIgpAAyQ/UGxsbI/eeIIicgyxTgiAICSBlShAEIQGkTAmCICSATiclCIKQgLyZmZlMlyEnqaioAMle3lAbi5G7PMjNJwiCkABSpgRBEBJAypQgCEIC0i7adzgcOHbsGPs9MTEBj8cjeQGsVisaGhrQ398Pn88nef77GavViurqavT19Yn2dRW2TTgcTkon9g9utxuRSETUt4xGI7q6utim67nQNzarszANWfzOp7RM3W43ysvL0dvbC5vNht7eXpSXl8PhcOx9CbeB2WyGx+OB2WzOdFEkw2q1orm5OeV1o9GIjz/+GDabDbFYDHa7PSNlJF4Nt9uNw4cPJ11va2tDKBSCzWZDKBRCW1tbRsq3l6Srs16vR0dHB2ZnZ2Gz2XDx4kVgfc/fbCPJMjWbzdBqtfB6vWxk8Pl8ePDgARoaGmA0GiUdJYeGhjA0NCRZfnLA7XZDr9cjEAjgjTfeEKUZDAb4fD6Mjo4CgGjnfWJ/wFtaiUQCL168SErTarV48OABAODhw4f4h3/4B8n7XTaxVZ3Pnz/P7g0EAlhYWMChQ4dYH8kWkpRpRUUFOI7D9PS06PpGpafX6+F0OqHRaABAZJq73W4oFAq88cYb0Gg0iMfjuHXrFt57770kM17o5kciEVGe8/PzImUhHMn5NKPRyA74a29vBwCMjo6K7k0kErhx4wZTQNmO3+9Hd3c3HA4HDh06xK7zL50c9rbMdW7duoWZmRk4nU7R9eLiYmB9714ehUKB4uJi2SpTudQ5yc0vLCxELBbbUuO3tbUhFosx05vjODQ1NbF0rVaLX/7ylyztvffeQ39/P3p7ewFAdG+6PPPz82G1WoH1OGF+fj4uXrzI0hwOB3w+H7xeL+LxOFOYVquV3Wuz2RAIBFBXVyeFvPaEzSz1RCKBt956C/39/RgcHMTVq1eh1+v3tHzEq+Hz+fDJJ5+kTU8kElhaWgIALC0t5czppNups9FoRHl5ORYWFrLKKsWr7BolDJgXFhYm7RweCASYJRiLxRCLxeDz+aDX60XnSW1Er9fDbDZjdHSUmfd6vR6HDh3C+Pg4E+D4+Diqq6tTKhKhFa3X65Gfn49YLPayVc0qFAoFysrKmMXudDpht9vJ3SdkDx8/5TgON2/ezHRxkkhSppFIZFvxCOEESSKRkGT09Hg8cDgcOHPmDM6cOcPc86WlJSiVSjQ3N4smZeLxOAoLC5PyMZvNaG9vh0KhYGWTizLF+kAiHFR2I5ZNZA6hi1tcXLwvT+rcKVvVmQ8rAsjKmXykUqYzMzMoLy9HZWWlqMBmsxkWiwVerxfT09Oorq5my6WEFX1VhBav2+3GyZMn8ZOf/AQcx+HBgwcpXWA+5sJTV1eHQCDArDW32y1J2TJNJBJJadVzHIdIJJKRMhHSksrFFbrAcmSrOvP6JRaLZbUHlhQzHR0dRSgUgsVigdFoBNYrc/LkSYRCIdEkDm8V1tfXs0mjV8HtdosUXyQSQSwWw8TEBBYWFkRuvdvt3jRemJ+fz0IGcokp8jOZvBz0ej2qq6uzMn5EvBw+nw/RaJTF+Ovq6hCNRmXtdWxVZ34ZVDYeoickZcyUn0k+d+4cuyZctB8IBDA+Po7m5mYMDg5ifn4e8/PzKV3unTAwMACn04nBwUFAsEIA6xar2+3GpUuXRGm8Ejl58iTOnDmDAwcO4OHDh2hvb8elS5cQDocxNzeHoqKirFtK8TLwoRBeDvPz87vyMQWROW7evImuri4MDg6K+oCcSVdnfgWLSqVi7zw2rB7KFl6rra2lLfgygNx30CGojTcid3nQt/kEQRASQMqUIAhCAkiZEgRBSAApU4IgCAkgZUoQBCEBdKAeQRCEBOQtLi5mugw5SUlJCUj28obaWIzc5UFuPkEQhASQMiUIgpAAUqYEQRASkHY/U7vdjqqqKvZ7ampq2xsNuFwuAEBPT48UZcw5XC4XSkpKAABra2u4ffs2xsbGUqbfv38fXq83Y2UlXg2Xy4VoNCrqWxaLBY2Njex3qndAbhgMBnR0dECpVILjOFy/fp2dKCFMw/qO/NeuXUMwGMxwqcWkVKYulwsajQb9/f3w+/2sMna7Pet3btnv2O12qFQqXLlyBcFgEHa7HS0tLVheXobf74fFYmFtc+TIEdTW1uLJkyd0lMk+hB8Uo9Go6LpWq8Xi4mJOGSOtra0Ih8Po6emBy+VCa2sr/H4/dDodrFYrnj59ioGBAeh0OnR2duLs2bNZJ58kN99kMkGj0WB4eJh1UL/fj0ePHqG0tBQGgyET5cwZBgYG0N3dzUbdubk5AEBRUREAoKysDOFwGH6/H7/5zW/AcRyOHDmS0TITO8NgMODy5csoKCjA6upqUrparU5SsHLGYDBAo9Gwd/3x48coKCiAwWBAMBhEd3c3M+KCwSACgQBUKhV0Ol2GSy4myTItKysDx3F48uSJ6LrX6xW5k/wIceDAAWB9g2KhaS5EGDIQmug7yYP4k8xVKlXSNoJarTZjZSJejrt372J2dhadnZ2i63wb84olF+ANBeEAolAoUFRUtK90QZJlqlarEY/Ht4xHtLa2Ih6Pw+l04sqVK+A4DvX19Un3WSwWlJaWor+/H06nE/F4HGfPnt1RHrlMTU1N0uAWCoWA9VE6Ho9nsHTEy+D3+/Hpp5+mTFOr1VAqlWhsbERfXx/6+vqy8ox4qUkkElheXgYALC8vpz0GyWAwoLS0FIFAYH/ETLeDMHbKvwCpELql2DAptd08chW73Q6dTofbt28zS56QN0VFRVAoFGxi0WQy4dSpU+zIoFyGj59yHIc7d+5kujhJJCnTaDQKvV4PnU63qeYXzjiura2lHEnSuaU7ySNXsdvtMBgMKWdxebeel28uxdfkztjYmKi9x8bGUFNTg7KysoyWa7cRuvX8gCKEDwkCyMqZfKRSpnNzcygtLcWRI0dEBTaZTGhpacHw8DCePHmCo0ePsuVSwooK4d1QtVqdlKbT6baVRy5it9tRWlqKgYEBUcwonVvPu/2EfJHzgJnKrRe6/bxuiMfjWTeDLyQpZjo2NoZwOIyWlhY2c6/T6WAymRAOh0WjJq8kjx8/ziaRNjI3NweNRsPystvtcLvdePvtt7edRy5hsVhgMBhEqymE8IOdwWDA8ePHoVQqkyYLif2LxWLB5cuXWX+xWCzQ6XSynpDy+/1YXV1FTU0NsD5PsLq6yt5/fo7lo48+ymg5tyJlzLSnpwd2ux1dXV3smnDRfjAYxOTkJAuSLy4uYnFxMaUF6vV6odVqWV7CGfvS0tJt5ZFLlJWVIS8vD6dPn8bp06fZdT6G5vV6UVZWxuR5//79fTXjSWwOHxcV9r379+/LesE+ANy5cwcdHR3o6+tjOgKCZVNKpRIXLlxg92fjyp/XTpw4sSdb8H3/+9/H5OSk7F+K7SL3HXQIauONyF0ee/Zt/tDQEOrq6mAymfbqkQRBEHvGSy+N2gn8ov2VlRWK7xEEIUv2RJnS9/wEQcgd2oKPIAhCAkiZEgRBSAApU4IgCAmg00kJgiAkIG9mZibTZchJKioqQLKXN9TGYuQuD3LzCYIgJICUKUEQhASQMiUIgpCAlIv2rVYrmpub2e9wOIy+vr60+5IS0uJwOHDs2DEAQDweR39/P3w+H0t3u904fPgwAGBkZARDQ0MZKyuxc4xGI7q6uqBSqYAU/UuYnqr95chmdd5KXtlCkmVqtVrR1NSEjz/+GDabDTabDQsLC3A6ndDr9btaGLPZDI/HA7PZvKvPyWasVivKy8vR29sLm82GUCiEjo4OJnur1QqtVove3l6MjIygoaEBRqMx08Umtoler0dHRwdmZ2dhs9lw8eJFYP2Ta562tjaEQiHW/m1tbRks8d6Qrs7bkVe2kKRMi4qKsLq6iunpaXbtV7/6FfLy8lBZWbnX5cs5hoaG4HA42Kjs9/uhVCpRWFgIrG9JFgqF4PP58Nlnn4HjOFKm+4hAIIDz58/D4/Gw3wsLC8jPz4der4fRaIRWq2Vbyz18+BBqtVrWbbxZnbeSVzaR5OYvLy/DaDSisrKSmdE+nw/nzp0T3Sd0NROJBG7cuIHR0VGYzWZYLBb8/ve/Z8p3YmKCCUOv18PpdEKj0QACNxbrG+GqVCq0t7cDAEZHR0Uub7aa97uJUHnq9Xrk5+djYWFBdA9/uiOx/ykuLgbWT/HlUSgUKC4ulq2rL5c6J1mmQ0NDCAQCOHPmDAYHB+HxeJJGRavVivz8fFy8eBE2mw2BQAB1dXUsnT/P5eLFi/j4449hNBphtVqBdXM+Fosxk53jODQ1NcHn88Hr9SIejzPFLHR5s9m83w2sVisGBweh1+vx8OFDURp/nEMgEEAsFstQCQkpMBqNKC8vx8LCAjMSEokElpaWAABLS0s5cTbaduucSl7ZQsoJqO7ubkAQ+D137pzIKhwaGmKTHry1tLFTj4+PIxAIMEXLH8PAW6gAUFhYuOmJpEKrjM+TjxHupxHrZeBlbLVamaUuDL0Q+x8+HshxHG7evJnp4mQ92S6vTbfg8/l8cDgcTKm2tbWxCaL29nYoFAokEgkkEgmRMk0kEiKTPRKJsJifcKUA/7+pSOfS5hqfffYZqqurUVFRwZQp79bzMopEIhkuJbFT+HAXgKTQldDFLS4uTjqpU45sVefN5JUtiNx8vV6Pq1evMpecJxKJgOM49ruurg6BQAA2mw1dXV1Jp2MqFArR4Xi8ItXr9aiursbExARsNhu6u7tF+QrhXVj+f3MV3npfXl5O69bzbj+xP+AVQywWw/nz50WKIZWLK3SB5chWdd5MXtmESJnyM2VNTU2i5Un19fUoKCgQfVfLz6aZzeaUs2q8W8+nCw++4hVkfX09m4hKhd/vh1arhdFoZIpY6PbLEavVKopTNzU1AeteAtZlUl5eDqPRiPr6eiiVSlnLQ47wcf9Um6b7fD5Eo1E2B1FXV4doNCrrNt6qzpvJK5t4rba2NmnXqI2L9jcuohW6+eFwGMvLyygqKkJfXx8qKythsVgQjUaZkhXO5gvznp+fZ8/o7u4WzfTzi9HlOpu/2aYPwjoLV0rw0KL9/UGqNt64AJ1H2Mfkumh/s3c+XZ23I69sIaUyfRX4pVFer1ekAAgxct9Bh6A23ojc5UHf5hMEQUgAKVOCIAgJkPx00tHRUXLvCYLIOcgyJQiCkABSpgRBEBJAB+oRBEFIQN7i4mKmy5CTlJSUgGQvb6iNxchdHuTmEwRBSAApU4IgCAkgZUoQBCEBadeZ2u12VFVVsd9TU1O7stGAxWJBbW0trl+/LtoMhfiTbI4ePYpr164hGAymTCfZ7W9cLhei0aiobxkMBnR0dECpVILjuJxo383qLEzD+o786fpEJklpmbpcLpSWlqK/vx9OpxP9/f0oLS3N2l3uTSYTLl++DJPJlOmiSIbFYkFjY2PadIPBgNra2j0tEyEtLpcLJSUlSddbW1sRDofhdDoRDofR2tqakfLtJenqrNPpYLVa8fTpUzidTly5cgUAcPbs2QyXOJkkZWoymaDRaDA8PMxGBr/fj0ePHqG0tJRtrScVXq8XH3zwgexH3p3gcrnQ0NCw6T6l9fX1OXGchRwxGAy4fPkyCgoKsLq6mpSm0WgwNzcHAHj8+DEKCgok73fZxGZ1DgaD6O7uZpZ7MBhEIBCASqWCTqfLcMnFJLn5ZWVl4DgOT548EV33er3wer3st06nQ2dnJ9sEWmiau1wuKBQKtkk0x3G4e/cu3n333SQzXuiqRqNRUZ6Li4vo6elhzxSO5HyawWBAS0sLlEolTp06BQAYGxsT3bu2tobbt29jbGxsd6QoMXNzc+jp6YHdbk+5V6zJZIJWq8XU1BS+8Y1vZKSMxKtx9+5dzM7OorOzU3SdP0UhGo2ya/yZanI1OORS5yTLVK1WIx6PbxmPaG1tRTweZ6Y3x3Gor69n6RqNBmNjYyzt3XffxfXr19lJpMJ70+WpUqlgsViA9RiuSqXClStXWJrdboff78fw8DA4jmMKkz/l9MqVK3A6nQgGg6ipqZFCXnuCcNBKRU1NDaanp/HHP/5xz8pESIff78enn36aNj2RSDCvZHl5OSc8kO3W2WAwoLS0FIFAIOtipi+90YkwYK5Wq5MOxgsGg8wSjMfjiMfj8Pv90Ol0aY8qwbrFazKZMDY2xg720+l00Ov1mJycZAKcnJzE0aNHU5r6Qitap9OxDWflAD+4eL1e9jdB5AJ8/JTjONy5cyfTxUkiSZnyO+TrdLpNNb9wgmRtbU2S0XNgYAB2ux2nT5/G6dOnmXu+vLwMpVKJxsZG0aQMx3FQq9VJ+ZhMJpw6dQp5eXmsbHJQpjqdDpWVlUlHPxPyQujiFhUV5cyBepvVmQ8rAsjKmXykUqZzc3MoLS3FkSNHRAU2mUxoaWnB8PAwnjx5gqNHj7LlUsKKvipCi9flcsFkMuFnP/sZOI7Do0ePUrrAfMyFp6amBsFgkMVbXS6XJGXLNEeOHIFGo2GDDY/dbt9XMWEiPalcXKELLEe2qjOvX+LxuGgOJdtIipmOjY0hHA6jpaWFzSDyrnc4HBZ1WN4qPH78uOg00pfF5XKJFF80GkU8HsfU1BQCgYDIrXe5XHC73Wln9PjZPpPJlHWzfi8LP7HmdDrhdDpx//59cByHgYEBUqQywe/3Y3V1lcX4a2pqsLq6uq8mYnbKVnXml0F99NFHGS3nVqSMmfIzyV1dXeyacNF+MBjE5OQkGhsb0dfXh8XFRSwuLqZ0uXfCRx99hM7OTvT19QGCFQJYt1hdLhcuXLggSuOtZ5PJhNOnT0OtVuPx48c4deoULly4gJWVFTx9+hRarXbL0AVBZAN37txBR0cH+vr6RH1AzqSrM79sSqlUsr6PDauHsoXXTpw4QVvwZQC576BDUBtvRO7yoG/zCYIgJICUKUEQhASQMiUIgpAAUqYEQRASQMqUIAhCAkiZEgRBSACdTkoQBCEB/z9B+xAB9pPRtAAAAABJRU5ErkJggg==)"
      ],
      "metadata": {
        "id": "LZlZwT1SlryW"
      }
    },
    {
      "cell_type": "code",
      "source": [
        "dado = np.loadtxt('dados.csv', delimiter=',', skiprows=1, dtype=object)\n",
        "dado"
      ],
      "metadata": {
        "colab": {
          "base_uri": "https://localhost:8080/"
        },
        "id": "UrrTwU0yFn9q",
        "outputId": "703c3b09-5662-4fe6-8e41-7e8dbdace0ba"
      },
      "execution_count": 35,
      "outputs": [
        {
          "output_type": "execute_result",
          "data": {
            "text/plain": [
              "array([['Camiseta', '10', '10', '01'],\n",
              "       ['Calça', '15', '15', '01'],\n",
              "       ['Sapato', '20', '20', '01 '],\n",
              "       ['Camiseta', '12', '10', '01 '],\n",
              "       ['Calça', '18', '15', '01 '],\n",
              "       ['Sapato', '25', '20', '01'],\n",
              "       ['Camiseta', '16', '10', '02 '],\n",
              "       ['Calça', '20', '15', '02 '],\n",
              "       ['Sapato', '30', '20', '02 '],\n",
              "       ['Camiseta', '14', '10', '02 '],\n",
              "       ['Calça', '22', '15', '02 '],\n",
              "       ['Sapato', '35', '20', '02']], dtype=object)"
            ]
          },
          "metadata": {},
          "execution_count": 35
        }
      ]
    },
    {
      "cell_type": "markdown",
      "source": [
        "Codigo para juntar as receitas totais de todos os itens vendidos, multiplicando a quantidade com o preço"
      ],
      "metadata": {
        "id": "hvFM4rWxjhGy"
      }
    },
    {
      "cell_type": "code",
      "source": [
        "arrecadado = np.array([int(dado[i][1]) * int(dado[i][2]) for i in range(len(dado))])\n",
        "arrecadado"
      ],
      "metadata": {
        "id": "EkF4LLcAHval",
        "colab": {
          "base_uri": "https://localhost:8080/"
        },
        "outputId": "971269d5-de5a-4042-c299-00117c020234"
      },
      "execution_count": 36,
      "outputs": [
        {
          "output_type": "execute_result",
          "data": {
            "text/plain": [
              "array([100, 225, 400, 120, 270, 500, 160, 300, 600, 140, 330, 700])"
            ]
          },
          "metadata": {},
          "execution_count": 36
        }
      ]
    },
    {
      "cell_type": "markdown",
      "source": [
        "Agora é um codigo que serve para separar e somar os valores aos seus respectivos itens na tabela"
      ],
      "metadata": {
        "id": "XXy0YAn6jyuq"
      }
    },
    {
      "cell_type": "code",
      "source": [
        "verba_geral = np.array([])\n",
        "\n",
        "verba = sum([arrecadado[i] for i in range(len(arrecadado)) if dado[i][0] == 'Camiseta'])\n",
        "verba_geral = np.append(verba_geral, verba)\n",
        "verba = sum([arrecadado[i] for i in range(len(arrecadado)) if dado[i][0] == 'Sapato'])\n",
        "verba_geral = np.append(verba_geral, verba)\n",
        "verba = sum([arrecadado[i] for i in range(len(arrecadado)) if dado[i][0] == 'Calça'])\n",
        "verba_geral = np.append(verba_geral, verba)\n",
        "\n",
        "verba_geral"
      ],
      "metadata": {
        "id": "S_M8J3QuPViv",
        "colab": {
          "base_uri": "https://localhost:8080/"
        },
        "outputId": "17316734-3b0d-41c5-a89a-919ddb47177e"
      },
      "execution_count": 37,
      "outputs": [
        {
          "output_type": "execute_result",
          "data": {
            "text/plain": [
              "array([ 520., 2200., 1125.])"
            ]
          },
          "metadata": {},
          "execution_count": 37
        }
      ]
    },
    {
      "cell_type": "markdown",
      "source": [
        "Um codigo para juntar os nomes dos produtos"
      ],
      "metadata": {
        "id": "fus5GaTtj_1J"
      }
    },
    {
      "cell_type": "code",
      "source": [
        "itens = list(set([i[0] for i in dado]))\n",
        "itens"
      ],
      "metadata": {
        "id": "eKmJFbRbW4QR",
        "colab": {
          "base_uri": "https://localhost:8080/"
        },
        "outputId": "999a2835-102b-435f-8724-8bdf5bf98ee4"
      },
      "execution_count": 38,
      "outputs": [
        {
          "output_type": "execute_result",
          "data": {
            "text/plain": [
              "['Camiseta', 'Sapato', 'Calça']"
            ]
          },
          "metadata": {},
          "execution_count": 38
        }
      ]
    },
    {
      "cell_type": "markdown",
      "source": [
        "Um codigo que serve para determinar qual o item que possui a maior verba gerada a partir de vendas"
      ],
      "metadata": {
        "id": "MUTZGINKkFrB"
      }
    },
    {
      "cell_type": "code",
      "source": [
        "maior_valor = np.argmax(verba_geral)\n",
        "maior = itens[maior_valor]\n",
        "maior"
      ],
      "metadata": {
        "id": "IPmSAdwZWbU_",
        "colab": {
          "base_uri": "https://localhost:8080/",
          "height": 35
        },
        "outputId": "9501a5ca-9ef4-4123-d8bc-55a1a5918216"
      },
      "execution_count": 39,
      "outputs": [
        {
          "output_type": "execute_result",
          "data": {
            "text/plain": [
              "'Sapato'"
            ],
            "application/vnd.google.colaboratory.intrinsic+json": {
              "type": "string"
            }
          },
          "metadata": {},
          "execution_count": 39
        }
      ]
    },
    {
      "cell_type": "markdown",
      "source": [
        "Um codigo que determina qual o mes que obteve a maior quantia de verba gerada a partir dos diferentes produtos gerados"
      ],
      "metadata": {
        "id": "4cxBtsEEkRLQ"
      }
    },
    {
      "cell_type": "code",
      "source": [
        "meses = list(set([i[3].strip() for i in dado]))\n",
        "print(meses)\n",
        "\n",
        "verba_mes = np.array([])\n",
        "mes_2 = sum([arrecadado[i] for i in range(len(arrecadado)) if dado[i][3] == '02'])\n",
        "verba_mes = np.append(verba_mes, mes_2)\n",
        "mes_1 = sum([arrecadado[i] for i in range(len(arrecadado)) if dado[i][3] == '01'])\n",
        "verba_mes = np.append(verba_mes, mes_1)\n",
        "print(verba_mes)\n",
        "\n",
        "maior_mes = meses[np.argmax(verba_mes)]\n",
        "print(maior_mes)"
      ],
      "metadata": {
        "id": "zN0nL0A4YxQC",
        "colab": {
          "base_uri": "https://localhost:8080/"
        },
        "outputId": "e453647e-de52-4fdd-93b6-f3f5773624c0"
      },
      "execution_count": 49,
      "outputs": [
        {
          "output_type": "stream",
          "name": "stdout",
          "text": [
            "['02', '01']\n",
            "[700. 825.]\n",
            "01\n"
          ]
        }
      ]
    },
    {
      "cell_type": "markdown",
      "source": [
        "Agora um ultimo codigo para gerar um grafico de barras mostrando os produtos e suas respectivas verbas geradas de acordo com variaveis ja geradas durante a produção do projeto"
      ],
      "metadata": {
        "id": "I3-lszwgkdRg"
      }
    },
    {
      "cell_type": "code",
      "source": [
        "plt.bar(itens, verba_geral)\n",
        "plt.show()"
      ],
      "metadata": {
        "colab": {
          "base_uri": "https://localhost:8080/",
          "height": 430
        },
        "id": "OhIqNN4Vc8fB",
        "outputId": "44442fe3-be66-40f1-ae4e-2c407b5581b0"
      },
      "execution_count": 52,
      "outputs": [
        {
          "output_type": "display_data",
          "data": {
            "text/plain": [
              "<Figure size 640x480 with 1 Axes>"
            ],
            "image/png": "[encoded data removed]"
          },
          "metadata": {}
        }
      ]
    }
  ]
}